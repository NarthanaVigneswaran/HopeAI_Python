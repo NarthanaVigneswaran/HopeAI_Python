{
 "cells": [
  {
   "cell_type": "code",
   "execution_count": 1,
   "id": "ecea7e18-7280-4db8-bfba-cd4d80e1f50c",
   "metadata": {},
   "outputs": [
    {
     "name": "stdin",
     "output_type": "stream",
     "text": [
      "enter the age 18\n"
     ]
    }
   ],
   "source": [
    "age=int(input(\"enter the age\"))\n",
    "\n",
    "\n",
    "\n",
    "    "
   ]
  },
  {
   "cell_type": "code",
   "execution_count": 2,
   "id": "24bbecb7-56e7-4451-95d0-10fef1d69e40",
   "metadata": {},
   "outputs": [
    {
     "name": "stdout",
     "output_type": "stream",
     "text": [
      "adult\n"
     ]
    }
   ],
   "source": [
    "if(age==18):\n",
    "    print(\"adult\")"
   ]
  },
  {
   "cell_type": "code",
   "execution_count": 3,
   "id": "00c3e89e-a7bc-4652-b79e-653e663110eb",
   "metadata": {},
   "outputs": [
    {
     "name": "stdin",
     "output_type": "stream",
     "text": [
      "enter the age 17\n"
     ]
    }
   ],
   "source": [
    "age=int(input(\"enter the age\"))"
   ]
  },
  {
   "cell_type": "code",
   "execution_count": 5,
   "id": "18562062-14a5-479f-b1df-4123e4449215",
   "metadata": {},
   "outputs": [
    {
     "name": "stdout",
     "output_type": "stream",
     "text": [
      "children\n"
     ]
    }
   ],
   "source": [
    "if(age==18):\n",
    "    print(\"adult\")\n",
    "else:\n",
    "    print(\"children\")"
   ]
  },
  {
   "cell_type": "code",
   "execution_count": null,
   "id": "3a05dfde-8b5b-410d-8e4a-e5549e004ed5",
   "metadata": {},
   "outputs": [],
   "source": []
  }
 ],
 "metadata": {
  "kernelspec": {
   "display_name": "Python 3 (ipykernel)",
   "language": "python",
   "name": "python3"
  },
  "language_info": {
   "codemirror_mode": {
    "name": "ipython",
    "version": 3
   },
   "file_extension": ".py",
   "mimetype": "text/x-python",
   "name": "python",
   "nbconvert_exporter": "python",
   "pygments_lexer": "ipython3",
   "version": "3.13.5"
  }
 },
 "nbformat": 4,
 "nbformat_minor": 5
}
