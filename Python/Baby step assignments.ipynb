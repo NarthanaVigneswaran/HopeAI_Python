{
 "cells": [
  {
   "cell_type": "code",
   "execution_count": null,
   "id": "e59353a1-e63a-4382-9d67-8bb6fb93296c",
   "metadata": {},
   "outputs": [],
   "source": [
    "print(\"Welcome to Assignment-1\")\n"
   ]
  },
  {
   "cell_type": "code",
   "execution_count": 11,
   "id": "6e05c324-f8ed-4003-a30b-88170de101ff",
   "metadata": {},
   "outputs": [
    {
     "name": "stdout",
     "output_type": "stream",
     "text": [
      "Add= 40\n"
     ]
    }
   ],
   "source": [
    "NUM1=10\n",
    "NUM2=30\n",
    "Add=NUM1+NUM2\n",
    "print(\"Add=\",Add)\n"
   ]
  },
  {
   "cell_type": "code",
   "execution_count": 1,
   "id": "ba3609f7-d3f3-4f7c-8611-93f57a68f592",
   "metadata": {},
   "outputs": [
    {
     "name": "stdin",
     "output_type": "stream",
     "text": [
      "enter your BMI index: 34\n"
     ]
    }
   ],
   "source": [
    "wt=int(input(\"enter your BMI index:\"))"
   ]
  },
  {
   "cell_type": "code",
   "execution_count": 7,
   "id": "eb038d03-d554-4a54-8ca4-4e7f05ff1c15",
   "metadata": {},
   "outputs": [
    {
     "name": "stdout",
     "output_type": "stream",
     "text": [
      "over weight\n"
     ]
    }
   ],
   "source": [
    "if(wt<18):\n",
    "    print(\"under weight\")\n",
    "elif(wt<24):\n",
    "    print(\"normal weight\")\n",
    "elif(wt<35):\n",
    "    print(\"over weight\")    \n",
    "else:\n",
    "    print(\"obesity\")\n",
    "         "
   ]
  },
  {
   "cell_type": "code",
   "execution_count": null,
   "id": "efccd18f-669b-48ca-b644-d11ba5dfdf43",
   "metadata": {},
   "outputs": [],
   "source": [
    "\n",
    "\n",
    "\n",
    "\n"
   ]
  }
 ],
 "metadata": {
  "kernelspec": {
   "display_name": "Python 3 (ipykernel)",
   "language": "python",
   "name": "python3"
  },
  "language_info": {
   "codemirror_mode": {
    "name": "ipython",
    "version": 3
   },
   "file_extension": ".py",
   "mimetype": "text/x-python",
   "name": "python",
   "nbconvert_exporter": "python",
   "pygments_lexer": "ipython3",
   "version": "3.13.5"
  }
 },
 "nbformat": 4,
 "nbformat_minor": 5
}
