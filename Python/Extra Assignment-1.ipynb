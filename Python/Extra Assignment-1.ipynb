{
 "cells": [
  {
   "cell_type": "code",
   "execution_count": 5,
   "id": "349bc65b-b81f-4a83-a4e7-33687190d57e",
   "metadata": {},
   "outputs": [
    {
     "name": "stdout",
     "output_type": "stream",
     "text": [
      "HOPE AI\n"
     ]
    }
   ],
   "source": [
    "print(\"HOPE AI\")"
   ]
  },
  {
   "cell_type": "code",
   "execution_count": 1,
   "id": "35d23348-9bc7-4dba-8509-7ee51810871a",
   "metadata": {},
   "outputs": [
    {
     "name": "stdin",
     "output_type": "stream",
     "text": [
      "Enter your institute name?: HOPE AI\n",
      "Enter your Name: Raj\n",
      "Enter your age: 15\n",
      "Enter your school name: Guru school\n",
      "Enter your degree: B.E CSE\n"
     ]
    },
    {
     "name": "stdout",
     "output_type": "stream",
     "text": [
      "HOPE AI\n",
      "Raj\n",
      "15\n",
      "Guru school\n",
      "B.E CSE\n"
     ]
    }
   ],
   "source": [
    "Ins_Name=input(\"Enter your institute name?:\")\n",
    "Name=input(\"Enter your Name:\")\n",
    "age=input(\"Enter your age:\")\n",
    "schlname=input(\"Enter your school name:\")\n",
    "deg=input(\"Enter your degree:\")\n",
    "for temp in Ins_Name,Name,age,schlname,deg:\n",
    "    print(temp)"
   ]
  },
  {
   "cell_type": "code",
   "execution_count": 4,
   "id": "3b2c12c0-c118-4a7a-ab59-81380f67ce74",
   "metadata": {},
   "outputs": [
    {
     "name": "stdout",
     "output_type": "stream",
     "text": [
      "div= 2.4516129032258065\n",
      "floordiv= 2\n",
      "mod= 14\n",
      "power= 256\n"
     ]
    }
   ],
   "source": [
    "a=76\n",
    "a1=4\n",
    "b=31\n",
    "b1=4\n",
    "div=76/31\n",
    "floordiv=76//31\n",
    "mod=76%31\n",
    "power=4**4\n",
    "print(\"div=\",div)\n",
    "print(\"floordiv=\",floordiv)\n",
    "print(\"mod=\",mod)\n",
    "print(\"power=\",power)"
   ]
  },
  {
   "cell_type": "code",
   "execution_count": null,
   "id": "d8a24d84-c009-4d58-94a4-7eeb08dad58b",
   "metadata": {},
   "outputs": [],
   "source": [
    "\n"
   ]
  },
  {
   "cell_type": "code",
   "execution_count": null,
   "id": "b80786ef-48de-4d78-863c-9b9af6b4487e",
   "metadata": {},
   "outputs": [],
   "source": []
  },
  {
   "cell_type": "code",
   "execution_count": null,
   "id": "fea5f9d9-8f9d-4764-b9b1-14f448f6264f",
   "metadata": {},
   "outputs": [],
   "source": []
  },
  {
   "cell_type": "code",
   "execution_count": null,
   "id": "37756ce6-aed1-4084-b6b0-db4a2f6e7305",
   "metadata": {},
   "outputs": [],
   "source": []
  }
 ],
 "metadata": {
  "kernelspec": {
   "display_name": "Python 3 (ipykernel)",
   "language": "python",
   "name": "python3"
  },
  "language_info": {
   "codemirror_mode": {
    "name": "ipython",
    "version": 3
   },
   "file_extension": ".py",
   "mimetype": "text/x-python",
   "name": "python",
   "nbconvert_exporter": "python",
   "pygments_lexer": "ipython3",
   "version": "3.13.5"
  }
 },
 "nbformat": 4,
 "nbformat_minor": 5
}
