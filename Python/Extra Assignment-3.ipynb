{
 "cells": [
  {
   "cell_type": "code",
   "execution_count": 1,
   "id": "1be10854-6eb2-4425-bd8a-57587b2eef72",
   "metadata": {},
   "outputs": [
    {
     "name": "stdin",
     "output_type": "stream",
     "text": [
      "Value: 20\n"
     ]
    }
   ],
   "source": [
    "Value=int(input(\"Value:\"))      "
   ]
  },
  {
   "cell_type": "code",
   "execution_count": 6,
   "id": "f89ae8ae-50d0-41c5-b47a-ae4adf443593",
   "metadata": {},
   "outputs": [
    {
     "name": "stdout",
     "output_type": "stream",
     "text": [
      "Correct\n"
     ]
    }
   ],
   "source": [
    "if(\"Value==10\"):\n",
    "    print(\"Correct\")"
   ]
  },
  {
   "cell_type": "code",
   "execution_count": 1,
   "id": "662a3858-f89a-4f1b-857c-e8bb87cb0903",
   "metadata": {},
   "outputs": [
    {
     "name": "stdin",
     "output_type": "stream",
     "text": [
      "age: 20\n"
     ]
    }
   ],
   "source": [
    "age=int(input(\"age:\"))\n",
    "            "
   ]
  },
  {
   "cell_type": "code",
   "execution_count": 2,
   "id": "0163520f-198a-474e-bf2c-3067f821b60b",
   "metadata": {},
   "outputs": [
    {
     "name": "stdout",
     "output_type": "stream",
     "text": [
      "adult\n"
     ]
    }
   ],
   "source": [
    "if(age<18):\n",
    "    print(\"Cildren\")\n",
    "elif(age<35):\n",
    "    print(\"adult\")\n",
    "elif(age<59):\n",
    "    print(\"citizen\")\n",
    "else:\n",
    "    print(\"Senior citizen\")"
   ]
  },
  {
   "cell_type": "code",
   "execution_count": 1,
   "id": "e1c8fa46-4975-4175-acf9-faa1936a4034",
   "metadata": {},
   "outputs": [
    {
     "name": "stdin",
     "output_type": "stream",
     "text": [
      "Enter the password: HOPE@123\n"
     ]
    }
   ],
   "source": [
    "password=input(\"Enter the password:\")\n",
    "             "
   ]
  },
  {
   "cell_type": "code",
   "execution_count": 5,
   "id": "83df6fd2-a364-43a5-8fa2-e459df4d6d07",
   "metadata": {},
   "outputs": [
    {
     "name": "stdout",
     "output_type": "stream",
     "text": [
      "Your passwordis correct\n"
     ]
    }
   ],
   "source": [
    "if(\"password='HOPE@123'\"):\n",
    "    print(\"Your passwordis correct\")\n",
    "else:\n",
    "    print(\"your password is incorrect\")"
   ]
  },
  {
   "cell_type": "code",
   "execution_count": 1,
   "id": "bc767fd3-995c-4450-9032-d079b41f515c",
   "metadata": {},
   "outputs": [
    {
     "name": "stdin",
     "output_type": "stream",
     "text": [
      "Enter any number: 1\n"
     ]
    }
   ],
   "source": [
    "num=int(input(\"Enter any number:\"))"
   ]
  },
  {
   "cell_type": "code",
   "execution_count": 3,
   "id": "eb03111c-2c8a-498b-a7ff-b00384d8d0cd",
   "metadata": {},
   "outputs": [
    {
     "name": "stdout",
     "output_type": "stream",
     "text": [
      "No is positive\n"
     ]
    }
   ],
   "source": [
    "if(num>0):\n",
    "    print(\"No is positive\")\n",
    "else:\n",
    "    print(\"No is negative\")"
   ]
  },
  {
   "cell_type": "code",
   "execution_count": 4,
   "id": "819b470c-73a8-4b35-a9dc-cdfc869ff08b",
   "metadata": {},
   "outputs": [
    {
     "name": "stdin",
     "output_type": "stream",
     "text": [
      "Enter a number to check: 22\n"
     ]
    }
   ],
   "source": [
    "num1=int(input(\"Enter a number to check:\"))       "
   ]
  },
  {
   "cell_type": "code",
   "execution_count": 6,
   "id": "45f1f054-ed22-4d98-84bb-abfe64e8b248",
   "metadata": {},
   "outputs": [
    {
     "name": "stdout",
     "output_type": "stream",
     "text": [
      "No is not divisible by 5\n"
     ]
    }
   ],
   "source": [
    "if(num1/5):\n",
    "    print(\"No is not divisible by 5\")\n",
    "else:\n",
    "    print(\"No is divisible by 5\")"
   ]
  },
  {
   "cell_type": "code",
   "execution_count": null,
   "id": "08f5273a-0f1c-44b0-b337-289ecf2e448a",
   "metadata": {},
   "outputs": [],
   "source": []
  },
  {
   "cell_type": "code",
   "execution_count": null,
   "id": "c73685d0-55b9-4f53-a28b-497fe43fd330",
   "metadata": {},
   "outputs": [],
   "source": []
  }
 ],
 "metadata": {
  "kernelspec": {
   "display_name": "Python 3 (ipykernel)",
   "language": "python",
   "name": "python3"
  },
  "language_info": {
   "codemirror_mode": {
    "name": "ipython",
    "version": 3
   },
   "file_extension": ".py",
   "mimetype": "text/x-python",
   "name": "python",
   "nbconvert_exporter": "python",
   "pygments_lexer": "ipython3",
   "version": "3.13.5"
  }
 },
 "nbformat": 4,
 "nbformat_minor": 5
}
