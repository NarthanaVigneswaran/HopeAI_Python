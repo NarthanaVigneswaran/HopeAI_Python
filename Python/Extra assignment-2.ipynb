{
 "cells": [
  {
   "cell_type": "code",
   "execution_count": 1,
   "id": "8216dd1c-e76c-450c-af9a-980048a9f192",
   "metadata": {},
   "outputs": [
    {
     "data": {
      "text/plain": [
       "range(0, 20)"
      ]
     },
     "execution_count": 1,
     "metadata": {},
     "output_type": "execute_result"
    }
   ],
   "source": [
    "range(0,20)"
   ]
  },
  {
   "cell_type": "code",
   "execution_count": 2,
   "id": "06ba0ab7-651b-4736-aabc-019aba60caa8",
   "metadata": {},
   "outputs": [
    {
     "name": "stdout",
     "output_type": "stream",
     "text": [
      "0\n",
      "1\n",
      "2\n",
      "3\n",
      "4\n",
      "5\n",
      "6\n",
      "7\n",
      "8\n",
      "9\n",
      "10\n",
      "11\n",
      "12\n",
      "13\n",
      "14\n",
      "15\n",
      "16\n",
      "17\n",
      "18\n",
      "19\n"
     ]
    }
   ],
   "source": [
    "for temp in range(0,20):\n",
    " print(temp)"
   ]
  },
  {
   "cell_type": "code",
   "execution_count": 3,
   "id": "35d5c6ab-9107-4a07-86ba-2d2c8d72023c",
   "metadata": {},
   "outputs": [
    {
     "name": "stdout",
     "output_type": "stream",
     "text": [
      "10\n",
      "11\n",
      "12\n",
      "13\n",
      "14\n",
      "15\n",
      "16\n",
      "17\n",
      "18\n",
      "19\n"
     ]
    }
   ],
   "source": [
    "range(10,20)\n",
    "for temp in range(10,20):\n",
    " print(temp)"
   ]
  },
  {
   "cell_type": "code",
   "execution_count": 1,
   "id": "be2ba4a9-2a11-4614-b33b-78e820c87d4c",
   "metadata": {},
   "outputs": [
    {
     "name": "stdin",
     "output_type": "stream",
     "text": [
      "enter the course name Artificial Intelligence\n"
     ]
    }
   ],
   "source": [
    "Name=input(\"enter the course name\")\n"
   ]
  },
  {
   "cell_type": "code",
   "execution_count": 9,
   "id": "c751cc66-a9a7-4aaa-a4e6-e61cc91c0e25",
   "metadata": {},
   "outputs": [
    {
     "name": "stdout",
     "output_type": "stream",
     "text": [
      "A\n",
      "r\n",
      "t\n",
      "i\n",
      "f\n",
      "i\n",
      "c\n",
      "i\n",
      "a\n",
      "l\n",
      " \n",
      "I\n",
      "n\n",
      "t\n",
      "e\n",
      "l\n",
      "l\n",
      "i\n",
      "g\n",
      "e\n",
      "n\n",
      "c\n",
      "e\n"
     ]
    }
   ],
   "source": [
    "for course in Name:\n",
    "    print(course)"
   ]
  },
  {
   "cell_type": "code",
   "execution_count": 18,
   "id": "5a8d5ca2-9d54-4407-9743-e7bc48736552",
   "metadata": {},
   "outputs": [
    {
     "name": "stdout",
     "output_type": "stream",
     "text": [
      "-Your name-\n",
      "-Your Age-\n",
      "-Your Profession-\n"
     ]
    }
   ],
   "source": [
    "D1=(\"-Your name-\")\n",
    "D2= (\"-Your Age-\")\n",
    "D3= (\"-Your Profession-\")\n",
    "print(D1)\n",
    "print(D2)\n",
    "print(D3)"
   ]
  },
  {
   "cell_type": "code",
   "execution_count": 27,
   "id": "b37e63c1-294a-4ace-8cba-02d28d2d1bf2",
   "metadata": {},
   "outputs": [
    {
     "name": "stdout",
     "output_type": "stream",
     "text": [
      "[10, 20, 14, 55, 43, 87, 76]\n",
      "Number of item in the List2: 7\n"
     ]
    }
   ],
   "source": [
    "List2=[10,20,14,55,43,87,76]\n",
    "length=len(List2)\n",
    "print(List2)\n",
    "print(\"Number of item in the List2:\",length)\n"
   ]
  },
  {
   "cell_type": "code",
   "execution_count": 40,
   "id": "7c75ee27-1484-4e79-942b-f06e51a12bc4",
   "metadata": {},
   "outputs": [
    {
     "name": "stdout",
     "output_type": "stream",
     "text": [
      "Even number\n",
      "Even number\n",
      "Even number\n",
      "Even number\n",
      "Even number\n",
      "odd number\n"
     ]
    }
   ],
   "source": [
    "numbers=[20,10,16,19,25,1,276,188]\n",
    "for num1 in numbers:\n",
    "    if(num1 % 2 == 0):\n",
    "        print(\"Even number\")\n",
    "else:\n",
    "    print(\"odd number\")\n",
    "\n",
    "    \n"
   ]
  },
  {
   "cell_type": "code",
   "execution_count": 1,
   "id": "8a58a1a1-df74-4f95-95f5-2f717e68a8a0",
   "metadata": {},
   "outputs": [
    {
     "name": "stdout",
     "output_type": "stream",
     "text": [
      "(1, 'WELCOME', 2, 'HOPE')\n"
     ]
    }
   ],
   "source": [
    "TUP=(1,'WELCOME',2,'HOPE')\n",
    "print(TUP)\n"
   ]
  },
  {
   "cell_type": "code",
   "execution_count": 5,
   "id": "90a3b960-b6fe-40ee-9040-1d5d4117cc3b",
   "metadata": {},
   "outputs": [
    {
     "name": "stdout",
     "output_type": "stream",
     "text": [
      "((0, 1, 2, 3), ('Python', 'Hope'))\n"
     ]
    }
   ],
   "source": [
    "TUP1=(0,1,2,3)\n",
    "TUP2=('Python','Hope')\n",
    "TUP3=(TUP1,TUP2)\n",
    "print(TUP3)"
   ]
  },
  {
   "cell_type": "code",
   "execution_count": null,
   "id": "bee1a9fb-8836-4b34-8648-d3010fa5b09f",
   "metadata": {},
   "outputs": [],
   "source": []
  }
 ],
 "metadata": {
  "kernelspec": {
   "display_name": "Python 3 (ipykernel)",
   "language": "python",
   "name": "python3"
  },
  "language_info": {
   "codemirror_mode": {
    "name": "ipython",
    "version": 3
   },
   "file_extension": ".py",
   "mimetype": "text/x-python",
   "name": "python",
   "nbconvert_exporter": "python",
   "pygments_lexer": "ipython3",
   "version": "3.13.5"
  }
 },
 "nbformat": 4,
 "nbformat_minor": 5
}
