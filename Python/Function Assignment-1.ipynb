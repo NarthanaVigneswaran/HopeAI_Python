{
 "cells": [
  {
   "cell_type": "markdown",
   "id": "a5b8d6bf-5b01-42b7-a934-8707b883c7bc",
   "metadata": {},
   "source": [
    "## def subfields():\n",
    "    sub_fields = [\"Machine Learning\", \"Neural Networks\", \"Vision\", \"Robotics\", \"Speech Processing\", \"Natural Language Processing\"]\n",
    "    print(\"Sub-fields in AI are:\")\n",
    "    for field in sub_fields:\n",
    "        print(field)\n",
    "        "
   ]
  },
  {
   "cell_type": "code",
   "execution_count": 2,
   "id": "2b10bdc9-3d30-4e0a-b9c9-85c9f69bdd95",
   "metadata": {},
   "outputs": [
    {
     "name": "stdout",
     "output_type": "stream",
     "text": [
      "Sub-fields in AI are:\n",
      "Machine Learning\n",
      "Neural Networks\n",
      "Vision\n",
      "Robotics\n",
      "Speech Processing\n",
      "Natural Language Processing\n"
     ]
    }
   ],
   "source": [
    "subfields()"
   ]
  },
  {
   "cell_type": "code",
   "execution_count": 3,
   "id": "8ae2ff5a-7d26-4c17-85f5-408edf0c0401",
   "metadata": {},
   "outputs": [],
   "source": [
    " #Create a function that checks whether the given number is Odd or Even"
   ]
  },
  {
   "cell_type": "code",
   "execution_count": 4,
   "id": "73a06366-d757-4b7d-8acc-542c4f02dc20",
   "metadata": {},
   "outputs": [],
   "source": [
    "def oddeven():\n",
    "    num=int(input(\"Enter a number:\"))\n",
    "    if((num%2)==0):\n",
    "        print(\"52452 is a Even number\")\n",
    "    else:\n",
    "        print(\"odd number\")\n"
   ]
  },
  {
   "cell_type": "code",
   "execution_count": 5,
   "id": "b956f0a4-ca4e-4dc1-9e2b-d7308ae0c356",
   "metadata": {},
   "outputs": [
    {
     "name": "stdin",
     "output_type": "stream",
     "text": [
      "Enter a number: 52452\n"
     ]
    },
    {
     "name": "stdout",
     "output_type": "stream",
     "text": [
      "52452 is a Even number\n"
     ]
    }
   ],
   "source": [
    "oddeven()"
   ]
  },
  {
   "cell_type": "code",
   "execution_count": 6,
   "id": "5ad1d56f-5d59-4288-9e7e-3594bc68f2ae",
   "metadata": {},
   "outputs": [],
   "source": [
    " #Create a function that tells elegibility of marriage for male and female according to their age limit like 21 for male and 18 for female\n"
   ]
  },
  {
   "cell_type": "code",
   "execution_count": 13,
   "id": "fb871e9d-49e7-4d4f-bd0d-e98caa63c802",
   "metadata": {},
   "outputs": [
    {
     "name": "stdin",
     "output_type": "stream",
     "text": [
      "Your Gender: Male\n",
      "Your age: 20\n"
     ]
    }
   ],
   "source": [
    "Gender=input(\"Your Gender:\")\n",
    "age=int(input(\"Your age:\")) \n",
    "def EligibilityForMrg():\n",
    "    if(Gender==\"Male\"and age>=21):\n",
    "        print(\"YOU ARE ELIGIBLE\")\n",
    "    elif(Gender==\"FeMale\"and age>=18):\n",
    "        print(\"YOU ARE ELIGIBLE\")\n",
    "    else:\n",
    "        print(\"NOT ELIGIBLE\")\n",
    "                \n",
    "     \n"
   ]
  },
  {
   "cell_type": "code",
   "execution_count": 14,
   "id": "34ffbe08-2c2b-480a-838f-3010e2ed87e6",
   "metadata": {},
   "outputs": [
    {
     "name": "stdout",
     "output_type": "stream",
     "text": [
      "NOT ELIGIBLE\n"
     ]
    }
   ],
   "source": [
    "EligibilityForMrg()"
   ]
  },
  {
   "cell_type": "code",
   "execution_count": 9,
   "id": "7811f5be-2eb7-4df6-9e00-6850ba76e903",
   "metadata": {},
   "outputs": [],
   "source": [
    " #calculate the percentage of your 10th mark"
   ]
  },
  {
   "cell_type": "code",
   "execution_count": 10,
   "id": "8f9daf32-cdae-4ef7-8305-7071a737ddf6",
   "metadata": {},
   "outputs": [],
   "source": [
    "def percentage():\n",
    "    mark1=int(input(\"Subject1=\"))\n",
    "    mark2=int(input(\"Subject2=\"))\n",
    "    mark3=int(input(\"Subject3=\"))\n",
    "    mark4=int(input(\"Subject4=\"))\n",
    "    mark5=int(input(\"Subject5=\"))\n",
    "    Total=mark1+mark2+mark3+mark4+mark5\n",
    "    print(\"Total:\",Total)\n",
    "    perc=(Total/500)*100\n",
    "    print(\"Percentage:\",perc)\n",
    "        "
   ]
  },
  {
   "cell_type": "code",
   "execution_count": 11,
   "id": "baab3132-82e5-4d0a-9504-f615b304bb0b",
   "metadata": {},
   "outputs": [
    {
     "name": "stdin",
     "output_type": "stream",
     "text": [
      "Subject1= 98\n",
      "Subject2= 87\n",
      "Subject3= 95\n",
      "Subject4= 95\n",
      "Subject5= 93\n"
     ]
    },
    {
     "name": "stdout",
     "output_type": "stream",
     "text": [
      "Total: 468\n",
      "Percentage: 93.60000000000001\n"
     ]
    }
   ],
   "source": [
    "percentage()"
   ]
  },
  {
   "cell_type": "code",
   "execution_count": 12,
   "id": "b949fce4-8935-461c-90bd-a53ca59274f0",
   "metadata": {},
   "outputs": [],
   "source": [
    "#print area and perimeter of triangle using class and function"
   ]
  },
  {
   "cell_type": "code",
   "execution_count": 3,
   "id": "37069e9f-2997-481d-92de-79af32ecdc80",
   "metadata": {},
   "outputs": [],
   "source": [
    "def Triangle():\n",
    "    Height=int(input(\"Height:\"))\n",
    "    Breadth=int(input(\"Breadth:\"))\n",
    "    formula1=\"(Height*Breadth)/2\"\n",
    "    area=(Height*Breadth)/2\n",
    "    print(f\"Area formula:{formula1}\")\n",
    "    print(f\"Area of Triangle:{area}\")\n",
    "    Height1=int(input(\"Height1:\"))\n",
    "    Height2=int(input(\"Height2:\"))\n",
    "    Breadth1=int(input(\"Breadth1:\"))\n",
    "    formula2=\"Height1+Height2+Breadth1\"\n",
    "    perimeter=Height1+Height2+Breadth1\n",
    "    print(f\"perimeter formula:{formula2}\")\n",
    "    print(f\"perimeter of Triangle:{perimeter}\")\n",
    "    "
   ]
  },
  {
   "cell_type": "code",
   "execution_count": 4,
   "id": "19ee2e89-ba34-4d3d-82f8-1903ec500e70",
   "metadata": {},
   "outputs": [
    {
     "name": "stdin",
     "output_type": "stream",
     "text": [
      "Height: 32\n",
      "Breadth: 34\n"
     ]
    },
    {
     "name": "stdout",
     "output_type": "stream",
     "text": [
      "Area formula:(Height*Breadth)/2\n",
      "Area of Triangle:544.0\n"
     ]
    },
    {
     "name": "stdin",
     "output_type": "stream",
     "text": [
      "Height1: 2\n",
      "Height2: 4\n",
      "Breadth1: 4\n"
     ]
    },
    {
     "name": "stdout",
     "output_type": "stream",
     "text": [
      "perimeter formula:Height1+Height2+Breadth1\n",
      "perimeter of Triangle:10\n"
     ]
    }
   ],
   "source": [
    "Triangle()"
   ]
  },
  {
   "cell_type": "code",
   "execution_count": null,
   "id": "cbc99f66-6b14-4b9c-96d3-4544e5f63577",
   "metadata": {},
   "outputs": [],
   "source": []
  }
 ],
 "metadata": {
  "kernelspec": {
   "display_name": "Python 3 (ipykernel)",
   "language": "python",
   "name": "python3"
  },
  "language_info": {
   "codemirror_mode": {
    "name": "ipython",
    "version": 3
   },
   "file_extension": ".py",
   "mimetype": "text/x-python",
   "name": "python",
   "nbconvert_exporter": "python",
   "pygments_lexer": "ipython3",
   "version": "3.13.5"
  }
 },
 "nbformat": 4,
 "nbformat_minor": 5
}
