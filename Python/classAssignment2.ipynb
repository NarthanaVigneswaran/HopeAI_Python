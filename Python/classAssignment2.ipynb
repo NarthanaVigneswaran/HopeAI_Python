{
 "cells": [
  {
   "cell_type": "code",
   "execution_count": 1,
   "id": "d6b24a8e-e3fd-4aeb-a903-b4e40d3e604b",
   "metadata": {},
   "outputs": [],
   "source": [
    "from Multiplefunctions import Multiplefunctions"
   ]
  },
  {
   "cell_type": "code",
   "execution_count": null,
   "id": "6a50adca-aee6-40ec-bd54-9d5663a4af89",
   "metadata": {},
   "outputs": [],
   "source": []
  }
 ],
 "metadata": {
  "kernelspec": {
   "display_name": "Python 3 (ipykernel)",
   "language": "python",
   "name": "python3"
  },
  "language_info": {
   "codemirror_mode": {
    "name": "ipython",
    "version": 3
   },
   "file_extension": ".py",
   "mimetype": "text/x-python",
   "name": "python",
   "nbconvert_exporter": "python",
   "pygments_lexer": "ipython3",
   "version": "3.13.5"
  }
 },
 "nbformat": 4,
 "nbformat_minor": 5
}
