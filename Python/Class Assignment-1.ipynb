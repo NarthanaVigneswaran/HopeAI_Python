{
 "cells": [
  {
   "cell_type": "code",
   "execution_count": 1,
   "id": "fd71ca70-d7bf-4156-b488-e828e9c83824",
   "metadata": {},
   "outputs": [],
   "source": [
    "# Create a class and function, and list out the items in the list"
   ]
  },
  {
   "cell_type": "code",
   "execution_count": 2,
   "id": "d8a454c7-a23c-47c0-a4a7-e323c13a3305",
   "metadata": {},
   "outputs": [],
   "source": [
    "class SubfieldsInAI():\n",
    "    def subfields():\n",
    "        sub_fields = [\"Machine Learning\", \"Neural Networks\", \"Vision\", \"Robotics\", \"Speech Processing\", \"Natural Language Processing\"]\n",
    "        print(\"Sub-fields in AI are:\")\n",
    "        for field in sub_fields:\n",
    "            print(field)\n",
    "        "
   ]
  },
  {
   "cell_type": "code",
   "execution_count": 3,
   "id": "a7f93992-33b5-47c1-bbda-32835f18503a",
   "metadata": {},
   "outputs": [
    {
     "name": "stdout",
     "output_type": "stream",
     "text": [
      "Sub-fields in AI are:\n",
      "Machine Learning\n",
      "Neural Networks\n",
      "Vision\n",
      "Robotics\n",
      "Speech Processing\n",
      "Natural Language Processing\n"
     ]
    }
   ],
   "source": [
    "SubfieldsInAI.subfields()"
   ]
  },
  {
   "cell_type": "code",
   "execution_count": 4,
   "id": "aa6e0986-1563-44e7-bee2-f78cb3fed518",
   "metadata": {},
   "outputs": [],
   "source": [
    "#Create a function that checks whether the given number is Odd or Even"
   ]
  },
  {
   "cell_type": "code",
   "execution_count": 5,
   "id": "147109a4-7519-4536-9467-c30e3790134f",
   "metadata": {},
   "outputs": [],
   "source": [
    "class OddEven():\n",
    "    def oddeven():\n",
    "        num=int(input(\"Enter a number:\"))\n",
    "        if((num%2)==0):\n",
    "            print(\"52452 is a Even number\")\n",
    "        else:\n",
    "            print(\"odd number\")"
   ]
  },
  {
   "cell_type": "code",
   "execution_count": 6,
   "id": "3dc32822-c747-4cb8-9d67-d8db9541e08f",
   "metadata": {},
   "outputs": [
    {
     "name": "stdin",
     "output_type": "stream",
     "text": [
      "Enter a number: 52452\n"
     ]
    },
    {
     "name": "stdout",
     "output_type": "stream",
     "text": [
      "52452 is a Even number\n"
     ]
    }
   ],
   "source": [
    "OddEven.oddeven()\n"
   ]
  },
  {
   "cell_type": "code",
   "execution_count": 7,
   "id": "bf069eea-be4a-40c4-89e9-5eb56240c776",
   "metadata": {},
   "outputs": [],
   "source": [
    " #Create a function that tells elegibility of marriage for male and female according to their age limit like 21 for male and 18 for female\n"
   ]
  },
  {
   "cell_type": "code",
   "execution_count": 10,
   "id": "8fa1b1fe-c2bb-41e7-ae6a-4b2f5abf0843",
   "metadata": {},
   "outputs": [],
   "source": [
    "class EligibilityForMarriage:\n",
    "    def EligibilityForMrg(self):\n",
    "        Gender = input(\"Enter your Gender (Male/Female): \")\n",
    "        age = int(input(\"Enter your Age: \"))\n",
    "        \n",
    "        if (Gender == \"Male\" and age >= 21):\n",
    "            print(\"YOU ARE ELIGIBLE\")\n",
    "        elif (Gender == \"Female\" and age >= 18):\n",
    "            print(\"YOU ARE ELIGIBLE\")\n",
    "        else:\n",
    "            print(\"NOT ELIGIBLE\")"
   ]
  },
  {
   "cell_type": "code",
   "execution_count": 12,
   "id": "5943a164-686c-47cc-8da6-8b0cd9e1c6e4",
   "metadata": {},
   "outputs": [
    {
     "name": "stdin",
     "output_type": "stream",
     "text": [
      "Enter your Gender (Male/Female):  Male\n",
      "Enter your Age:  20\n"
     ]
    },
    {
     "name": "stdout",
     "output_type": "stream",
     "text": [
      "NOT ELIGIBLE\n"
     ]
    }
   ],
   "source": [
    "obj = EligibilityForMarriage()\n",
    "obj.EligibilityForMrg()"
   ]
  },
  {
   "cell_type": "code",
   "execution_count": 13,
   "id": "4c2a6cbe-866a-43a7-813f-0e1741cd82af",
   "metadata": {},
   "outputs": [],
   "source": [
    "class FindPercent():\n",
    "    def percentage():\n",
    "        mark1=int(input(\"Subject1=\"))\n",
    "        mark2=int(input(\"Subject2=\"))\n",
    "        mark3=int(input(\"Subject3=\"))\n",
    "        mark4=int(input(\"Subject4=\"))\n",
    "        mark5=int(input(\"Subject5=\"))\n",
    "        Total=mark1+mark2+mark3+mark4+mark5\n",
    "        print(\"Total:\",Total)\n",
    "        perc=(Total/500)*100\n",
    "        print(\"Percentage:\",perc)"
   ]
  },
  {
   "cell_type": "code",
   "execution_count": 14,
   "id": "2bbfa70d-3bac-400e-8b93-fb041a0bb1e3",
   "metadata": {},
   "outputs": [
    {
     "name": "stdin",
     "output_type": "stream",
     "text": [
      "Subject1= 98\n",
      "Subject2= 87\n",
      "Subject3= 95\n",
      "Subject4= 95\n",
      "Subject5= 93\n"
     ]
    },
    {
     "name": "stdout",
     "output_type": "stream",
     "text": [
      "Total: 468\n",
      "Percentage: 93.60000000000001\n"
     ]
    }
   ],
   "source": [
    "FindPercent.percentage()"
   ]
  },
  {
   "cell_type": "code",
   "execution_count": null,
   "id": "ddaf83f9-715d-4725-8928-8b28467c34c3",
   "metadata": {},
   "outputs": [],
   "source": [
    "#print area and perimeter of triangle using class and function"
   ]
  },
  {
   "cell_type": "code",
   "execution_count": 15,
   "id": "7200dd7e-59e6-4e8b-b934-4aee571eb0eb",
   "metadata": {},
   "outputs": [],
   "source": [
    "class triangle():\n",
    "    def Triangle():\n",
    "        Height=int(input(\"Height:\"))\n",
    "        Breadth=int(input(\"Breadth:\"))\n",
    "        formula1=\"(Height*Breadth)/2\"\n",
    "        area=(Height*Breadth)/2\n",
    "        print(f\"Area formula:{formula1}\")\n",
    "        print(f\"Area of Triangle:{area}\")\n",
    "        Height1=int(input(\"Height1:\"))\n",
    "        Height2=int(input(\"Height2:\"))\n",
    "        Breadth1=int(input(\"Breadth1:\"))\n",
    "        formula2=\"Height1+Height2+Breadth1\"\n",
    "        perimeter=Height1+Height2+Breadth1\n",
    "        print(f\"perimeter formula:{formula2}\")\n",
    "        print(f\"perimeter of Triangle:{perimeter}\")"
   ]
  },
  {
   "cell_type": "code",
   "execution_count": 16,
   "id": "5bd37ad0-06c5-470a-a1c2-c79b5668c319",
   "metadata": {},
   "outputs": [
    {
     "name": "stdin",
     "output_type": "stream",
     "text": [
      "Height: 32\n",
      "Breadth: 34\n"
     ]
    },
    {
     "name": "stdout",
     "output_type": "stream",
     "text": [
      "Area formula:(Height*Breadth)/2\n",
      "Area of Triangle:544.0\n"
     ]
    },
    {
     "name": "stdin",
     "output_type": "stream",
     "text": [
      "Height1: 2\n",
      "Height2: 4\n",
      "Breadth1: 4\n"
     ]
    },
    {
     "name": "stdout",
     "output_type": "stream",
     "text": [
      "perimeter formula:Height1+Height2+Breadth1\n",
      "perimeter of Triangle:10\n"
     ]
    }
   ],
   "source": [
    "triangle.Triangle()"
   ]
  },
  {
   "cell_type": "code",
   "execution_count": null,
   "id": "c01c81e4-e91b-468f-a3a6-1c2e1e5c2db1",
   "metadata": {},
   "outputs": [],
   "source": []
  }
 ],
 "metadata": {
  "kernelspec": {
   "display_name": "Python 3 (ipykernel)",
   "language": "python",
   "name": "python3"
  },
  "language_info": {
   "codemirror_mode": {
    "name": "ipython",
    "version": 3
   },
   "file_extension": ".py",
   "mimetype": "text/x-python",
   "name": "python",
   "nbconvert_exporter": "python",
   "pygments_lexer": "ipython3",
   "version": "3.13.5"
  }
 },
 "nbformat": 4,
 "nbformat_minor": 5
}
